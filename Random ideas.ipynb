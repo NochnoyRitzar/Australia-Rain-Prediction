{
 "cells": [
  {
   "cell_type": "code",
   "execution_count": null,
   "id": "cb1a11d3",
   "metadata": {},
   "outputs": [],
   "source": [
    "test = df.copy()\n",
    "#Filling empty rows\n",
    "seasons = test[\"Season\"].unique()\n",
    "columns = test.loc[0, \"MinTemp\":\"Year\"].index\n",
    "index = 0\n",
    "for season in seasons:\n",
    "    for col in columns:\n",
    "        test_group = test.groupby(by=\"Season\")[col].mean().to_list()\n",
    "        test[(test[col].isna()) & (test[\"Season\"] == season)].fillna(value=test_group[index], inplace=True)\n",
    "    index += 1"
   ]
  }
 ],
 "metadata": {
  "kernelspec": {
   "display_name": "Python 3",
   "language": "python",
   "name": "python3"
  },
  "language_info": {
   "codemirror_mode": {
    "name": "ipython",
    "version": 3
   },
   "file_extension": ".py",
   "mimetype": "text/x-python",
   "name": "python",
   "nbconvert_exporter": "python",
   "pygments_lexer": "ipython3",
   "version": "3.8.8"
  }
 },
 "nbformat": 4,
 "nbformat_minor": 5
}
